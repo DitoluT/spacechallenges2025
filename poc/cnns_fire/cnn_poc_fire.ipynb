{
 "cells": [
  {
   "cell_type": "markdown",
   "id": "fea2da44",
   "metadata": {},
   "source": [
    "# CNNs Proof of Concept\n",
    "\n",
    "This project will focus on building a proof of concept for Convolutional Neural Networks (CNNs) using Python and TensorFlow. The goal is to demonstrate the basic functionality of CNNs in image classification tasks. In this case, we will use them to classify images from the dataset https://www.kaggle.com/datasets/abdelghaniaaba/wildfire-prediction-dataset which contains images of wildfires taken from satellite. We will implement a simple CNN architecture and train it on this dataset. This model will be able to classify images depending on if there has been a wildfire or not."
   ]
  },
  {
   "cell_type": "code",
   "execution_count": null,
   "id": "3ed84667",
   "metadata": {},
   "outputs": [],
   "source": [
    "# Import necessary libraries\n",
    "\n",
    "import tensorflow as tf\n",
    "\n",
    "from tensorflow.keras import optimizers, regularizers\n",
    "from tensorflow.keras.utils import load_img, img_to_array\n",
    "from tensorflow.keras.models import Sequential\n",
    "from tensorflow.keras.layers import Dense, Flatten, Dropout, BatchNormalization, Conv2D, MaxPooling2D\n",
    "from tensorflow.keras.preprocessing.image import ImageDataGenerator\n",
    "from tensorflow.keras.callbacks import ModelCheckpoint, EarlyStopping\n",
    "\n",
    "import numpy as np\n",
    "import matplotlib.pyplot as plt\n",
    "\n",
    "import cv2\n",
    "import os\n",
    "import pandas as pd"
   ]
  }
 ],
 "metadata": {
  "language_info": {
   "name": "python"
  }
 },
 "nbformat": 4,
 "nbformat_minor": 5
}
